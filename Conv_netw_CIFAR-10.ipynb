{
 "cells": [
  {
   "attachments": {},
   "cell_type": "markdown",
   "metadata": {},
   "source": [
    "# Aplicația practică la disciplina Prelucrarea imaginilor în realitatea virtuală:\n",
    "# 1.Definirea problemei:\n",
    "Dezvoltarea unei rețele neuronale convoluționale; să antrenez un model pentru a clasifica imaginile din dataset-ul CIFAR10 pe 10 categorii."
   ]
  },
  {
   "cell_type": "code",
   "execution_count": 6,
   "metadata": {},
   "outputs": [],
   "source": [
    "## configurarea stackului: \n",
    "## un distributiv python sau anaconda; am folosit VSCode cu python 3.9 și extesia Jupyter\n",
    "#update python la versiunea 3.11\n",
    "## install pytorch torchvision cpuonly -c pytorch (dacă nu avem GPU cu nucleu CUDA )\n",
    "## install pytorch torchvision pytorch-cuda -c pytorch -c nvidia (GPU nvidia cu nuclee CUDA)\n",
    "## install streamlit - pentru implementarea moselului pe platforma și a demonstra funcționalitatea "
   ]
  },
  {
   "attachments": {},
   "cell_type": "markdown",
   "metadata": {},
   "source": [
    "2. Colectarea datelor: import biblioteca PyTorch, modulul pentru rețea neuronală, biblioteca torchvision, NumPy și modulul pyplot din biblioteca matplotlib"
   ]
  },
  {
   "cell_type": "code",
   "execution_count": 7,
   "metadata": {},
   "outputs": [
    {
     "ename": "ModuleNotFoundError",
     "evalue": "No module named 'pytorch'",
     "output_type": "error",
     "traceback": [
      "\u001b[1;31m---------------------------------------------------------------------------\u001b[0m",
      "\u001b[1;31mModuleNotFoundError\u001b[0m                       Traceback (most recent call last)",
      "Cell \u001b[1;32mIn[7], line 1\u001b[0m\n\u001b[1;32m----> 1\u001b[0m \u001b[38;5;28;01mimport\u001b[39;00m\u001b[38;5;250m \u001b[39m\u001b[38;5;21;01mpytorch\u001b[39;00m\n\u001b[0;32m      2\u001b[0m \u001b[38;5;28;01mimport\u001b[39;00m\u001b[38;5;250m \u001b[39m\u001b[38;5;21;01mtorch\u001b[39;00m\u001b[38;5;21;01m.\u001b[39;00m\u001b[38;5;21;01mnn\u001b[39;00m\u001b[38;5;250m \u001b[39m\u001b[38;5;28;01mas\u001b[39;00m\u001b[38;5;250m \u001b[39m\u001b[38;5;21;01mnn\u001b[39;00m\n\u001b[0;32m      3\u001b[0m \u001b[38;5;28;01mimport\u001b[39;00m\u001b[38;5;250m \u001b[39m\u001b[38;5;21;01mtorchvision\u001b[39;00m\n",
      "\u001b[1;31mModuleNotFoundError\u001b[0m: No module named 'pytorch'"
     ]
    }
   ],
   "source": [
    "import pytorch\n",
    "import torch.nn as nn\n",
    "import torchvision\n",
    "import math\n",
    "from matplotlib import pyplot as plt\n",
    "import numpy as np\n",
    "import torch.nn.functional as F\n",
    "#device=torch.device(\"cpu:0\")\n",
    "device=torch.device(\"cuda:0\")\n",
    "#device = torch.device(\"cuda\" if torch.cuda.is_available() else \"cpu\") ## nu nu lucrează oe toate dispozitivile"
   ]
  },
  {
   "attachments": {},
   "cell_type": "markdown",
   "metadata": {},
   "source": [
    "3. Pregătirea datelor: definirea unei transformări a datelor care convertește imaginile de intrare în tensori PyTorch și le normalizează, setarea dimensiunii lotului și crearea încărcătoarelor de date pentru setul de date CIFAR10."
   ]
  },
  {
   "cell_type": "code",
   "execution_count": 15,
   "metadata": {},
   "outputs": [
    {
     "name": "stdout",
     "output_type": "stream",
     "text": [
      "Files already downloaded and verified\n",
      "Files already downloaded and verified\n"
     ]
    }
   ],
   "source": [
    "transform = torchvision.transforms.Compose(\n",
    "    [torchvision.transforms.ToTensor(),\n",
    "     torchvision.transforms.Normalize((0.5, 0.5, 0.5), (0.5, 0.5, 0.5))])\n",
    "\n",
    "batch_size = 4 # atent la training pe procesor\n",
    "\n",
    "trainset = torchvision.datasets.CIFAR10(root='/tmp/cifar10', train=True,\n",
    "                                        download=True, transform=transform)\n",
    "trainloader = torch.utils.data.DataLoader(trainset, batch_size=batch_size,\n",
    "                                          shuffle=True, num_workers=2)\n",
    "\n",
    "testset = torchvision.datasets.CIFAR10(root='/tmp/cifar10', train=False,\n",
    "                                       download=True, transform=transform)\n",
    "testloader = torch.utils.data.DataLoader(testset, batch_size=batch_size,\n",
    "                                         shuffle=False, num_workers=2)\n",
    "\n",
    "classes = ('plane', 'car', 'bird', 'cat',\n",
    "           'deer', 'dog', 'frog', 'horse', 'ship', 'truck') #de făcut un dataset pentru încercări"
   ]
  },
  {
   "attachments": {},
   "cell_type": "markdown",
   "metadata": {},
   "source": [
    "4. Algoritmul: definirea unei clase ConvModel care extinde clasa PyTorch nn.Module. Această clasă definește arhitectura modelului CNN, care constă din două straturi convoluționale urmate de două straturi complet conectate. Metoda forward implementează trecerea înainte a modelului."
   ]
  },
  {
   "cell_type": "code",
   "execution_count": 16,
   "metadata": {},
   "outputs": [
    {
     "data": {
      "text/plain": [
       "ConvModel(\n",
       "  (conv1): Conv2d(3, 32, kernel_size=(3, 3), stride=(1, 1), padding=(1, 1))\n",
       "  (pool): MaxPool2d(kernel_size=2, stride=2, padding=0, dilation=1, ceil_mode=False)\n",
       "  (conv2): Conv2d(32, 64, kernel_size=(3, 3), stride=(1, 1), padding=(1, 1))\n",
       "  (fc1): Linear(in_features=4096, out_features=512, bias=True)\n",
       "  (fc2): Linear(in_features=512, out_features=10, bias=True)\n",
       "  (relu): ReLU()\n",
       ")"
      ]
     },
     "execution_count": 16,
     "metadata": {},
     "output_type": "execute_result"
    }
   ],
   "source": [
    "class ConvModel(torch.nn.Module):\n",
    "    def __init__(self):\n",
    "        super().__init__()\n",
    "        self.conv1 = nn.Conv2d(\n",
    "            in_channels=3,\n",
    "            out_channels= 32,\n",
    "            kernel_size=3, \n",
    "            padding=1)\n",
    "        \n",
    "        self.pool = nn.MaxPool2d(\n",
    "            kernel_size=2, \n",
    "            stride=2)\n",
    "        \n",
    "        self.conv2 = nn.Conv2d(\n",
    "            in_channels=32, \n",
    "            out_channels=64, \n",
    "            kernel_size=3,\n",
    "            padding=1)\n",
    "        \n",
    "        self.fc1 = nn.Linear(\n",
    "            in_features=64 * 8 * 8, \n",
    "            out_features=512)\n",
    "        \n",
    "        self.fc2 = nn.Linear(in_features=512, \n",
    "                             out_features=10)\n",
    "        \n",
    "        self.relu = nn.ReLU()\n",
    "    \n",
    "    def forward(self, x):\n",
    "        x = self.pool(self.relu(self.conv1(x)))\n",
    "        x = self.pool(self.relu(self.conv2(x)))\n",
    "        x = x.view(-1, 64 * 8 * 8)# de verificat dimensiunea la flatten; mai optim ar fi\n",
    "        #x = x.view(x.size(0), -1)\n",
    "\n",
    "        x = self.relu(self.fc1(x))\n",
    "        x = self.fc2(x)\n",
    "        return x\n",
    "model = ConvModel().to(device)\n",
    "model"
   ]
  },
  {
   "attachments": {},
   "cell_type": "markdown",
   "metadata": {},
   "source": [
    "4.1 Optimizarea modelului: definirea funcției de pierdere (cross-entropy) și a optimizatorului (coborâre stocastică a gradientului)."
   ]
  },
  {
   "cell_type": "code",
   "execution_count": 17,
   "metadata": {},
   "outputs": [],
   "source": [
    "import torch.optim as optim\n",
    "\n",
    "criterion = nn.CrossEntropyLoss()\n",
    "optimizer = optim.SGD(model.parameters(), lr=0.001, momentum=0.9)"
   ]
  },
  {
   "attachments": {},
   "cell_type": "markdown",
   "metadata": {},
   "source": [
    "5. Formarea modelului: formarea modelului timp de două epoci utilizând datele de formare. În fiecare epocă, iterez peste loturile din datele de instruire, calculează trecerile înainte și înapoi și actualizează ponderile modelului utilizând optimizatorul."
   ]
  },
  {
   "cell_type": "code",
   "execution_count": 18,
   "metadata": {},
   "outputs": [
    {
     "name": "stdout",
     "output_type": "stream",
     "text": [
      "[1,  2000] loss: 1.937\n",
      "[1,  4000] loss: 1.564\n",
      "[1,  6000] loss: 1.395\n",
      "[1,  8000] loss: 1.299\n",
      "[1, 10000] loss: 1.193\n",
      "[1, 12000] loss: 1.145\n",
      "[2,  2000] loss: 1.039\n",
      "[2,  4000] loss: 1.010\n",
      "[2,  6000] loss: 0.967\n",
      "[2,  8000] loss: 0.952\n",
      "[2, 10000] loss: 0.907\n",
      "[2, 12000] loss: 0.882\n",
      "[3,  2000] loss: 0.750\n",
      "[3,  4000] loss: 0.754\n",
      "[3,  6000] loss: 0.759\n",
      "[3,  8000] loss: 0.732\n",
      "[3, 10000] loss: 0.748\n",
      "[3, 12000] loss: 0.750\n",
      "[4,  2000] loss: 0.545\n",
      "[4,  4000] loss: 0.567\n",
      "[4,  6000] loss: 0.553\n",
      "[4,  8000] loss: 0.571\n",
      "[4, 10000] loss: 0.578\n",
      "[4, 12000] loss: 0.597\n",
      "[5,  2000] loss: 0.359\n",
      "[5,  4000] loss: 0.390\n",
      "[5,  6000] loss: 0.382\n",
      "[5,  8000] loss: 0.404\n",
      "[5, 10000] loss: 0.423\n",
      "[5, 12000] loss: 0.428\n",
      "[6,  2000] loss: 0.214\n",
      "[6,  4000] loss: 0.229\n",
      "[6,  6000] loss: 0.250\n",
      "[6,  8000] loss: 0.268\n",
      "[6, 10000] loss: 0.272\n",
      "[6, 12000] loss: 0.293\n",
      "[7,  2000] loss: 0.114\n",
      "[7,  4000] loss: 0.141\n",
      "[7,  6000] loss: 0.142\n",
      "[7,  8000] loss: 0.167\n",
      "[7, 10000] loss: 0.176\n",
      "[7, 12000] loss: 0.190\n",
      "[8,  2000] loss: 0.090\n",
      "[8,  4000] loss: 0.083\n",
      "[8,  6000] loss: 0.098\n",
      "[8,  8000] loss: 0.121\n",
      "[8, 10000] loss: 0.131\n",
      "[8, 12000] loss: 0.151\n",
      "[9,  2000] loss: 0.054\n",
      "[9,  4000] loss: 0.061\n",
      "[9,  6000] loss: 0.079\n",
      "[9,  8000] loss: 0.085\n",
      "[9, 10000] loss: 0.076\n",
      "[9, 12000] loss: 0.096\n",
      "[10,  2000] loss: 0.044\n",
      "[10,  4000] loss: 0.037\n",
      "[10,  6000] loss: 0.059\n",
      "[10,  8000] loss: 0.055\n",
      "[10, 10000] loss: 0.073\n",
      "[10, 12000] loss: 0.079\n"
     ]
    }
   ],
   "source": [
    "\n",
    "model.train()\n",
    "for epoch in range(10):  # loop over the dataset multiple times\n",
    "\n",
    "    running_loss = 0.0\n",
    "    for i, data in enumerate(trainloader, 0):\n",
    "        \n",
    "        # get the inputs; data is a list of [inputs, labels]\n",
    "        inputs, labels = data\n",
    "        inputs=inputs.to(device)\n",
    "        labels=labels.to(device)\n",
    "        # zero the parameter gradients\n",
    "        optimizer.zero_grad()\n",
    "\n",
    "        # forward + backward + optimize\n",
    "        outputs = model(inputs)\n",
    "        loss = criterion(outputs, labels)\n",
    "        loss.backward()\n",
    "        optimizer.step()\n",
    "\n",
    "        # print statistics\n",
    "        running_loss += loss.item()\n",
    "        if i % 2000 == 1999:    # print every 2000 mini-batches\n",
    "            print('[%d, %5d] loss: %.3f' %\n",
    "                  (epoch + 1, i + 1, running_loss / 2000))\n",
    "            running_loss = 0.0\n"
   ]
  },
  {
   "attachments": {},
   "cell_type": "markdown",
   "metadata": {},
   "source": [
    "6. Evaluare: evaluarea performanței modelului antrenat pe datele de testare prin calcularea preciziei modelului. Setați modelul în modul de evaluare pentru a dezactiva abandonul și normalizarea loturilor, apoi iterați pe datele de testare pentru a calcula precizia."
   ]
  },
  {
   "cell_type": "code",
   "execution_count": 19,
   "metadata": {},
   "outputs": [
    {
     "name": "stdout",
     "output_type": "stream",
     "text": [
      "Accuracy of the network on the 10000 test images: 73.260000 %\n"
     ]
    }
   ],
   "source": [
    "correct = 0\n",
    "total = 0\n",
    "model.eval()\n",
    "with torch.no_grad():\n",
    "    for data in testloader:\n",
    "        images, labels = data\n",
    "        images=images.to(device)\n",
    "        labels=labels.to(device)\n",
    "        outputs = model(images)\n",
    "        _, predicted = torch.max(outputs.data, 1)\n",
    "        total += labels.size(0)\n",
    "        correct += (predicted == labels).sum().item()\n",
    "\n",
    "print('Precizia desusă în urma încercărilor făcute în baza a 10000 imagini: %f %%' % (\n",
    "    100 * correct / total))"
   ]
  },
  {
   "attachments": {},
   "cell_type": "markdown",
   "metadata": {},
   "source": [
    "Această rețea neuronală convoluțională (CNN) este un model de învățare profundă care este antrenat pe setul de date CIFAR-10 pentru clasificarea imaginilor. Setul de date CIFAR-10 constă din 60 000 de imagini color 32x32 în 10 clase, cu 6 000 de imagini pe clasă. Arhitectura modelului constă din două straturi convoluționale și două straturi complet conectate. Primul strat convoluțional are 32 de filtre de dimensiune 3x3, iar al doilea strat convoluțional are 64 de filtre de dimensiune 3x3. Ambele straturi convoluționale sunt urmate de un strat max pooling care reduce dimensiunile spațiale ale hărților de caracteristici. Ieșirea celui de-al doilea strat max pooling este aplatizată și introdusă în două straturi complet conectate, primul având 512 neuroni, iar al doilea având 10 neuroni (câte unul pentru fiecare clasă din setul de date). Funcția de activare ReLU este utilizată după fiecare strat convoluțional și complet conectat, cu excepția ultimului, care utilizează o funcție de activare softmax pentru a emite probabilitățile ca imaginea de intrare să aparțină fiecărei clase. Modelul este antrenat utilizând metoda stochastic gradient descent (SGD) cu o rată de învățare de 0,001 și un momentum de 0,9, iar funcția de pierdere a entropiei încrucișate este utilizată ca obiectiv de optimizare.\n"
   ]
  },
  {
   "attachments": {},
   "cell_type": "markdown",
   "metadata": {},
   "source": [
    "7. implementare: am folosit biblioteca Streamlit, iar acum pot crea o interfață care să permită utilizatorilor să interacționeze cu modelul dvs. "
   ]
  },
  {
   "cell_type": "code",
   "execution_count": 21,
   "metadata": {},
   "outputs": [],
   "source": [
    "torch.save(model, 'cifar10_model.pth')"
   ]
  }
 ],
 "metadata": {
  "kernelspec": {
   "display_name": "Python 3",
   "language": "python",
   "name": "python3"
  },
  "language_info": {
   "codemirror_mode": {
    "name": "ipython",
    "version": 3
   },
   "file_extension": ".py",
   "mimetype": "text/x-python",
   "name": "python",
   "nbconvert_exporter": "python",
   "pygments_lexer": "ipython3",
   "version": "3.11.9"
  },
  "orig_nbformat": 4
 },
 "nbformat": 4,
 "nbformat_minor": 2
}
